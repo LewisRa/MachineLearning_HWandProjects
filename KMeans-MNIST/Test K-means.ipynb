
{
 "cells": [
  {
   "cell_type": "code",
   "execution_count": 11,
   "metadata": {},
   "outputs": [
    {
     "name": "stdout",
     "output_type": "stream",
     "text": [
      "This should be a:  1\n",
      "\n",
      "............................\n",
      "............................\n",
      "............................\n",
      "............................\n",
      ".............@@.............\n",
      ".............@@.............\n",
      ".............@@.............\n",
      ".............@@@............\n",
      ".............@@@............\n",
      ".............@@.............\n",
      ".............@@.............\n",
      ".............@@.............\n",
      ".............@@.............\n",
      ".............@@.............\n",
      ".............@@.............\n",
      ".............@@.............\n",
      ".............@@.............\n",
      ".............@@.............\n",
      ".............@@.............\n",
      ".............@@.............\n",
      ".............@@@@...........\n",
      ".............@@@............\n",
      ".............@@.............\n",
      "............................\n",
      "............................\n",
      "............................\n",
      "............................\n",
      "............................\n"
     ]
    }
   ],
   "source": [
    "from mnist import MNIST\n",
    "import random\n",
    "from math import sqrt\n",
    "from sklearn.preprocessing import scale\n",
    "\n",
    "sys_random = random.SystemRandom()\n",
    "\n",
    "# Read in MNIST data from data folder\n",
    "mndata = MNIST('data')\n",
    "itrain, ltrain = mndata.load_training()\n",
    "itest, ltest = mndata.load_testing()\n",
    "\n",
    "# Test if the data loaded by picking a random number\n",
    "index = sys_random.randrange(0, len(itrain))\n",
    "print(\"This should be a: \", ltrain[index])\n",
    "print(mndata.display(itrain[index]))\n",
    "\n",
    "itrain = scale(itrain)\n",
    "itest = scale(itest)"
   ]
  },
  {
   "cell_type": "code",
   "execution_count": 12,
   "metadata": {},
   "outputs": [
    {
     "name": "stdout",
     "output_type": "stream",
     "text": [
      "10000\n",
      "0.0284\n"
     ]
    }
   ],
   "source": [
    "from sklearn.cluster import KMeans\n",
    "k = KMeans(n_clusters = 10).fit(itrain, ltrain)\n",
    "predictions = k.predict(itest)\n",
    "print(len(ltest))\n",
    "print(sum([1 for p in range(len(predictions)) if predictions[p] == ltest[p]])/len(ltest))"
   ]
  },
  {
   "cell_type": "code",
   "execution_count": null,
   "metadata": {},
   "outputs": [],
   "source": []
  }
 ],
 "metadata": {
  "kernelspec": {
   "display_name": "Python 3",
   "language": "python",
   "name": "python3"
  },
  "language_info": {
   "codemirror_mode": {
    "name": "ipython",
    "version": 3
   },
   "file_extension": ".py",
   "mimetype": "text/x-python",
   "name": "python",
   "nbconvert_exporter": "python",
   "pygments_lexer": "ipython3",
   "version": "3.6.5"
  }
 },
 "nbformat": 4,
 "nbformat_minor": 2
}
